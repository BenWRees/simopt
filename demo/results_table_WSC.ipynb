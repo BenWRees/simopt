{
 "cells": [
  {
   "cell_type": "code",
   "execution_count": null,
   "id": "af0428df",
   "metadata": {},
   "outputs": [
    {
     "ename": "AttributeError",
     "evalue": "module '__main__' has no attribute '__file__'",
     "output_type": "error",
     "traceback": [
      "\u001b[31m---------------------------------------------------------------------------\u001b[39m",
      "\u001b[31mAttributeError\u001b[39m                            Traceback (most recent call last)",
      "\u001b[36mCell\u001b[39m\u001b[36m \u001b[39m\u001b[32mIn[2]\u001b[39m\u001b[32m, line 12\u001b[39m\n\u001b[32m      8\u001b[39m \u001b[38;5;28;01mimport\u001b[39;00m\u001b[38;5;250m \u001b[39m\u001b[34;01mnumpy\u001b[39;00m\u001b[38;5;250m \u001b[39m\u001b[38;5;28;01mas\u001b[39;00m\u001b[38;5;250m \u001b[39m\u001b[34;01mnp\u001b[39;00m \n\u001b[32m      9\u001b[39m \u001b[38;5;28;01mimport\u001b[39;00m\u001b[38;5;250m \u001b[39m\u001b[34;01mpandas\u001b[39;00m\u001b[38;5;250m \u001b[39m\u001b[38;5;28;01mas\u001b[39;00m\u001b[38;5;250m \u001b[39m\u001b[34;01mpd\u001b[39;00m\n\u001b[32m     11\u001b[39m sys.path.append(\n\u001b[32m---> \u001b[39m\u001b[32m12\u001b[39m \to.abspath(o.join(o.dirname(\u001b[43msys\u001b[49m\u001b[43m.\u001b[49m\u001b[43mmodules\u001b[49m\u001b[43m[\u001b[49m\u001b[34;43m__name__\u001b[39;49m\u001b[43m]\u001b[49m\u001b[43m.\u001b[49m\u001b[34;43m__file__\u001b[39;49m), \u001b[33m\"\u001b[39m\u001b[33m..\u001b[39m\u001b[33m\"\u001b[39m))\n\u001b[32m     13\u001b[39m )  \u001b[38;5;66;03m# type:ignore\u001b[39;00m\n\u001b[32m     15\u001b[39m \u001b[38;5;66;03m# Import the ProblemsSolvers class and other useful functions\u001b[39;00m\n\u001b[32m     16\u001b[39m \u001b[38;5;28;01mfrom\u001b[39;00m\u001b[38;5;250m \u001b[39m\u001b[34;01msimopt\u001b[39;00m\u001b[34;01m.\u001b[39;00m\u001b[34;01mexperiment_base\u001b[39;00m\u001b[38;5;250m \u001b[39m\u001b[38;5;28;01mimport\u001b[39;00m ProblemsSolvers, post_normalize, plot_solvability_profiles, ProblemSolver, read_experiment_results, plot_progress_curves\n",
      "\u001b[31mAttributeError\u001b[39m: module '__main__' has no attribute '__file__'"
     ]
    }
   ],
   "source": [
    "#typing: ignore\n",
    "import sys\n",
    "import os.path as o\n",
    "import os\n",
    "import time\n",
    "from collections import defaultdict\n",
    "\n",
    "import numpy as np \n",
    "import pandas as pd\n",
    "\n",
    "# sys.path.append(\n",
    "# \to.abspath(o.join(o.dirname(sys.modules[__name__].__file__), \"..\"))\n",
    "# )  # type:ignore\n",
    "\n",
    "# Import the ProblemsSolvers class and other useful functions\n",
    "from simopt.experiment_base import ProblemsSolvers, post_normalize, plot_solvability_profiles, ProblemSolver, read_experiment_results, plot_progress_curves\n",
    "from simopt.directory import problem_directory\n",
    "from simopt.data_analysis_base import DataAnalysis"
   ]
  }
 ],
 "metadata": {
  "kernelspec": {
   "display_name": "simopt",
   "language": "python",
   "name": "python3"
  },
  "language_info": {
   "codemirror_mode": {
    "name": "ipython",
    "version": 3
   },
   "file_extension": ".py",
   "mimetype": "text/x-python",
   "name": "python",
   "nbconvert_exporter": "python",
   "pygments_lexer": "ipython3",
   "version": "3.12.3"
  }
 },
 "nbformat": 4,
 "nbformat_minor": 5
}

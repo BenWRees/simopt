{
 "cells": [
  {
   "cell_type": "code",
   "execution_count": 62,
   "metadata": {},
   "outputs": [
    {
     "name": "stdout",
     "output_type": "stream",
     "text": [
      "{'demand_mean': 100.0, 'lead_mean': 6.0, 'holding_cost': 1.0, 'fixed_cost': 36.0, 'variable_cost': 2.0, 's': 1000.0, 'S': 2000.0, 'n_days': 10000, 'warmup': 50}\n"
     ]
    },
    {
     "ename": "AttributeError",
     "evalue": "'SSCont' object has no attribute 'rng_list'",
     "output_type": "error",
     "traceback": [
      "\u001b[1;31m---------------------------------------------------------------------------\u001b[0m",
      "\u001b[1;31mAttributeError\u001b[0m                            Traceback (most recent call last)",
      "\u001b[1;32m<ipython-input-62-daaa814b1a75>\u001b[0m in \u001b[0;36m<module>\u001b[1;34m\u001b[0m\n\u001b[0;32m     55\u001b[0m \u001b[1;33m\u001b[0m\u001b[0m\n\u001b[0;32m     56\u001b[0m \u001b[1;31m## Test replicate()\u001b[0m\u001b[1;33m\u001b[0m\u001b[1;33m\u001b[0m\u001b[1;33m\u001b[0m\u001b[0m\n\u001b[1;32m---> 57\u001b[1;33m \u001b[0mresponses\u001b[0m\u001b[1;33m,\u001b[0m \u001b[0mgradients\u001b[0m \u001b[1;33m=\u001b[0m \u001b[0mmyoracle\u001b[0m\u001b[1;33m.\u001b[0m\u001b[0mreplicate\u001b[0m\u001b[1;33m(\u001b[0m\u001b[1;33m)\u001b[0m\u001b[1;33m\u001b[0m\u001b[1;33m\u001b[0m\u001b[0m\n\u001b[0m\u001b[0;32m     58\u001b[0m \u001b[0mprint\u001b[0m\u001b[1;33m(\u001b[0m\u001b[1;34m'For a single replication:'\u001b[0m\u001b[1;33m)\u001b[0m\u001b[1;33m\u001b[0m\u001b[1;33m\u001b[0m\u001b[0m\n\u001b[0;32m     59\u001b[0m \u001b[0mprint\u001b[0m\u001b[1;33m(\u001b[0m\u001b[1;34m'The responses are {}'\u001b[0m\u001b[1;33m.\u001b[0m\u001b[0mformat\u001b[0m\u001b[1;33m(\u001b[0m\u001b[0mresponses\u001b[0m\u001b[1;33m)\u001b[0m\u001b[1;33m)\u001b[0m\u001b[1;33m\u001b[0m\u001b[1;33m\u001b[0m\u001b[0m\n",
      "\u001b[1;32m~\\simopt\\simopt\\oracles\\sscont.py\u001b[0m in \u001b[0;36mreplicate\u001b[1;34m(self)\u001b[0m\n\u001b[0;32m    151\u001b[0m         \"\"\"\n\u001b[0;32m    152\u001b[0m         \u001b[1;31m# designate random number generators\u001b[0m\u001b[1;33m\u001b[0m\u001b[1;33m\u001b[0m\u001b[1;33m\u001b[0m\u001b[0m\n\u001b[1;32m--> 153\u001b[1;33m         \u001b[0mdemand_rng\u001b[0m \u001b[1;33m=\u001b[0m \u001b[0mself\u001b[0m\u001b[1;33m.\u001b[0m\u001b[0mrng_list\u001b[0m\u001b[1;33m[\u001b[0m\u001b[1;36m0\u001b[0m\u001b[1;33m]\u001b[0m\u001b[1;33m\u001b[0m\u001b[1;33m\u001b[0m\u001b[0m\n\u001b[0m\u001b[0;32m    154\u001b[0m         \u001b[0mlead_rng\u001b[0m \u001b[1;33m=\u001b[0m \u001b[0mself\u001b[0m\u001b[1;33m.\u001b[0m\u001b[0mrng_list\u001b[0m\u001b[1;33m[\u001b[0m\u001b[1;36m1\u001b[0m\u001b[1;33m]\u001b[0m\u001b[1;33m\u001b[0m\u001b[1;33m\u001b[0m\u001b[0m\n\u001b[0;32m    155\u001b[0m         \u001b[1;31m# generate exponential random demands\u001b[0m\u001b[1;33m\u001b[0m\u001b[1;33m\u001b[0m\u001b[1;33m\u001b[0m\u001b[0m\n",
      "\u001b[1;31mAttributeError\u001b[0m: 'SSCont' object has no attribute 'rng_list'"
     ]
    }
   ],
   "source": [
    "import numpy as np\n",
    "\n",
    "from rng.mrg32k3a import MRG32k3a\n",
    "from oracles.mm1queue import MM1Queue\n",
    "from oracles.sscont import SSCont\n",
    "from oracles.cntnv import CntNV  # names of .py file and Oracle subclass\n",
    "from base import Solution\n",
    "\n",
    "# fixed_factors = {\n",
    "#     # dictionary of non-decision variable factors\n",
    "#     \"purchase_price\": 4.0,\n",
    "#     # \"sales_price\": 9.0,\n",
    "#     # \"salvage_price\": 1.0,\n",
    "#     \"Burr_c\": 2.0,\n",
    "#     \"Burr_k\": 20.0\n",
    "# }\n",
    "fixed_factors = {}\n",
    "\n",
    "myoracle = SSCont()\n",
    "#myoracle = MM1Queue(fixed_factors)\n",
    "#myoracle = CntNV(fixed_factors)\n",
    "print(myoracle.factors)\n",
    "\n",
    "# # Solution\n",
    "# mysoln_factors = {\n",
    "#     # dictionary of missing factors\n",
    "#     # \"mu\": 3.0,\n",
    "#     \"order_quantity\": 0.2\n",
    "# }\n",
    "#mysoln_factors = {}\n",
    "\n",
    "# Check simulatability\n",
    "for key in fixed_factors:\n",
    "    print(key, myoracle.check_simulatable_factor(key))\n",
    "\n",
    "#myoracle.factors.update(mysoln_factors)\n",
    "#print(myoracle.factors)\n",
    "#for key in mysoln_factors:\n",
    "#    print(key, myoracle.check_simulatable_factor(key))\n",
    "\n",
    "#print(myoracle.check_simulatable_factors())\n",
    "\n",
    "# print('For x = (1,), is_simulatable should be True and is {}'.format(myoracle.check_simulatable_factor(x=(1,))))\n",
    "# print('For x = [1], is_simulatable should be True(?) and is {}'.format(myoracle.check_simulatable_factor(x=(1,))))\n",
    "# print('For x = (-1,), is_simulatable should be False and is {}'.format(myoracle.check_simulatable_factor(x=(-1,))))\n",
    "# print('For x = (0,), is_simulatable should be False and is {}'.format(myoracle.check_simulatable_factor(x=(0,))))\n",
    "# print('For x = (1,2), is_simulatable should be False and is {}'.format(myoracle.check_simulatable_factor(x=(1,2))))\n",
    "# print('For x = \"hi\", is_simulatable should be False and is {}'.format(myoracle.check_simulatable_factor(x='hi')))\n",
    "\n",
    "rng_list = [MRG32k3a() for _ in range(myoracle.n_rngs)]\n",
    "# print(rng_list)\n",
    "# mysolution.attach_rngs(rng_list)\n",
    "# print(mysolution.rng_list)\n",
    "\n",
    "\n",
    "## Test replicate()\n",
    "responses, gradients = myoracle.replicate()\n",
    "print('For a single replication:')\n",
    "print('The responses are {}'.format(responses))\n",
    "print('The gradients are {}'.format(gradients))"
   ]
  },
  {
   "cell_type": "code",
   "execution_count": 224,
   "metadata": {},
   "outputs": [
    {
     "data": {
      "text/plain": [
       "Ks_2sampResult(statistic=0.019, pvalue=0.0541006396905892)"
      ]
     },
     "execution_count": 224,
     "metadata": {},
     "output_type": "execute_result"
    }
   ],
   "source": [
    "from scipy.stats import ks_2samp\n",
    "from numpy.random import poisson\n",
    "\n",
    "n = 10000\n",
    "alpha = 35\n",
    "draws = [MRG32k3a.poissonvariate(rng_list[1], alpha) for _ in range(n)]\n",
    "numpy = poisson(alpha,n)\n",
    "ks_2samp(draws, numpy)"
   ]
  },
  {
   "cell_type": "code",
   "execution_count": 226,
   "metadata": {},
   "outputs": [
    {
     "name": "stdout",
     "output_type": "stream",
     "text": [
      "35.0865\n",
      "34.9534\n"
     ]
    }
   ],
   "source": [
    "print(sum(draws)/n)\n",
    "print(sum(numpy)/n)"
   ]
  },
  {
   "cell_type": "code",
   "execution_count": null,
   "metadata": {},
   "outputs": [],
   "source": [
    "sum"
   ]
  },
  {
   "cell_type": "code",
   "execution_count": null,
   "metadata": {},
   "outputs": [],
   "source": [
    "draws_35 = [MRG32k3a.poissonvariate(rng_list[0], 34.99) for _ in range(100000)]"
   ]
  },
  {
   "cell_type": "code",
   "execution_count": 3,
   "metadata": {},
   "outputs": [
    {
     "name": "stdout",
     "output_type": "stream",
     "text": [
      "{'purchase_price': 5.0, 'sales_price': 9.0, 'salvage_price': 1.0, 'order_quantity': 0.5, 'Burr_c': 2.0, 'Burr_k': 20.0}\n",
      "purchase_price 1\n",
      "sales_price 1\n",
      "salvage_price 1\n",
      "order_quantity 1\n",
      "Burr_c 1\n",
      "Burr_k 1\n",
      "{'purchase_price': 5.0, 'sales_price': 9.0, 'salvage_price': 1.0, 'order_quantity': 0.5, 'Burr_c': 2.0, 'Burr_k': 20.0}\n",
      "True\n"
     ]
    }
   ],
   "source": [
    "import numpy as np\n",
    "\n",
    "from rng.mrg32k3a import MRG32k3a\n",
    "from oracles.mm1queue import MM1Queue\n",
    "from oracles.cntnv import CntNV  # names of .py file and Oracle subclass\n",
    "from base import Solution\n",
    "\n",
    "# fixed_factors = {\n",
    "#     # dictionary of non-decision variable factors\n",
    "#     \"purchase_price\": 4.0,\n",
    "#     # \"sales_price\": 9.0,\n",
    "#     # \"salvage_price\": 1.0,\n",
    "#     \"Burr_c\": 2.0,\n",
    "#     \"Burr_k\": 20.0\n",
    "# }\n",
    "fixed_factors = {}\n",
    "\n",
    "#myoracle = MM1Queue(fixed_factors)\n",
    "myoracle = CntNV(fixed_factors)\n",
    "print(myoracle.factors)\n",
    "\n",
    "# # Solution\n",
    "# mysoln_factors = {\n",
    "#     # dictionary of missing factors\n",
    "#     # \"mu\": 3.0,\n",
    "#     \"order_quantity\": 0.2\n",
    "# }\n",
    "mysoln_factors = {}\n",
    "\n",
    "# Check simulatability\n",
    "for key in fixed_factors:\n",
    "    print(key, myoracle.check_simulatable_factor(key))\n",
    "\n",
    "myoracle.factors.update(mysoln_factors)\n",
    "print(myoracle.factors)\n",
    "for key in mysoln_factors:\n",
    "    print(key, myoracle.check_simulatable_factor(key))\n",
    "\n",
    "print(myoracle.check_simulatable_factors())\n",
    "\n",
    "# print('For x = (1,), is_simulatable should be True and is {}'.format(myoracle.check_simulatable_factor(x=(1,))))\n",
    "# print('For x = [1], is_simulatable should be True(?) and is {}'.format(myoracle.check_simulatable_factor(x=(1,))))\n",
    "# print('For x = (-1,), is_simulatable should be False and is {}'.format(myoracle.check_simulatable_factor(x=(-1,))))\n",
    "# print('For x = (0,), is_simulatable should be False and is {}'.format(myoracle.check_simulatable_factor(x=(0,))))\n",
    "# print('For x = (1,2), is_simulatable should be False and is {}'.format(myoracle.check_simulatable_factor(x=(1,2))))\n",
    "# print('For x = \"hi\", is_simulatable should be False and is {}'.format(myoracle.check_simulatable_factor(x='hi')))\n",
    "\n",
    "rng_list = [MRG32k3a() for _ in range(myoracle.n_rngs)]\n",
    "# print(rng_list)\n",
    "# mysolution.attach_rngs(rng_list)\n",
    "# print(mysolution.rng_list)\n"
   ]
  },
  {
   "cell_type": "code",
   "execution_count": null,
   "metadata": {},
   "outputs": [],
   "source": []
  }
 ],
 "metadata": {
  "kernelspec": {
   "display_name": "Python 3",
   "language": "python",
   "name": "python3"
  },
  "language_info": {
   "codemirror_mode": {
    "name": "ipython",
    "version": 3
   },
   "file_extension": ".py",
   "mimetype": "text/x-python",
   "name": "python",
   "nbconvert_exporter": "python",
   "pygments_lexer": "ipython3",
   "version": "3.7.6"
  }
 },
 "nbformat": 4,
 "nbformat_minor": 4
}
